{
 "cells": [
  {
   "cell_type": "code",
   "execution_count": 5,
   "id": "b6da07c7-6f66-4046-b07e-59f56dbfd29f",
   "metadata": {},
   "outputs": [
    {
     "name": "stdout",
     "output_type": "stream",
     "text": [
      "200 375 425.0 Çarpımları: 31875000.0\n",
      "375 200 425.0 Çarpımları: 31875000.0\n"
     ]
    }
   ],
   "source": [
    "for a in range(1,501):\n",
    "    for b in range(1,501):\n",
    "        c=(a**2+b**2)**(1/2)\n",
    "        if (a+b+c==1000):\n",
    "            print(a,b,c,\"Çarpımları:\",a*b*c)\n",
    "            "
   ]
  }
 ],
 "metadata": {
  "kernelspec": {
   "display_name": "Python 3 (ipykernel)",
   "language": "python",
   "name": "python3"
  },
  "language_info": {
   "codemirror_mode": {
    "name": "ipython",
    "version": 3
   },
   "file_extension": ".py",
   "mimetype": "text/x-python",
   "name": "python",
   "nbconvert_exporter": "python",
   "pygments_lexer": "ipython3",
   "version": "3.10.8"
  }
 },
 "nbformat": 4,
 "nbformat_minor": 5
}
