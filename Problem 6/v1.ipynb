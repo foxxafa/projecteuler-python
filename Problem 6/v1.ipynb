{
 "cells": [
  {
   "cell_type": "markdown",
   "id": "dc7a716c-2620-4624-9ca4-fb9262c51245",
   "metadata": {},
   "source": [
    "İlk yüz doğal sayının karelerinin toplamı ile toplamın karesi arasındaki farkı bulun."
   ]
  },
  {
   "cell_type": "code",
   "execution_count": 3,
   "id": "598bf36f-d781-4bd6-9154-d2382983e65d",
   "metadata": {},
   "outputs": [
    {
     "name": "stdout",
     "output_type": "stream",
     "text": [
      "25164150\n"
     ]
    }
   ],
   "source": [
    "toplam=1\n",
    "for i in range(2,101):\n",
    "    toplam+=i**2\n",
    "\n",
    "\n",
    "print((sum(range(1,101))**2)-toplam)"
   ]
  },
  {
   "cell_type": "markdown",
   "id": "6fe59496-eef2-4586-afd3-3887df0657a8",
   "metadata": {},
   "source": [
    "n(n+1)(2n+1)/6 sayıların karelerinin toplamını veren formül \n",
    "\n",
    "sayıların toplamının karesini veren formül ise (n*(n+1)/2)^2"
   ]
  },
  {
   "cell_type": "code",
   "execution_count": 7,
   "id": "ecf61185-8ac5-4f75-9305-b43072e508ec",
   "metadata": {},
   "outputs": [
    {
     "name": "stdout",
     "output_type": "stream",
     "text": [
      "25164150.0\n"
     ]
    }
   ],
   "source": [
    "def karelertoplamı(x):\n",
    "    return x*(x+1)*(2*x+1)/6\n",
    "\n",
    "def toplamınkaresi(x):\n",
    "    return (x*(x+1)/2)**2\n",
    "\n",
    "\n",
    "print(toplamınkaresi(100)-karelertoplamı(100))"
   ]
  },
  {
   "cell_type": "code",
   "execution_count": null,
   "id": "8751ea14-b3ab-45be-a16d-a811a8209d78",
   "metadata": {},
   "outputs": [],
   "source": []
  }
 ],
 "metadata": {
  "kernelspec": {
   "display_name": "Python 3 (ipykernel)",
   "language": "python",
   "name": "python3"
  },
  "language_info": {
   "codemirror_mode": {
    "name": "ipython",
    "version": 3
   },
   "file_extension": ".py",
   "mimetype": "text/x-python",
   "name": "python",
   "nbconvert_exporter": "python",
   "pygments_lexer": "ipython3",
   "version": "3.10.8"
  }
 },
 "nbformat": 4,
 "nbformat_minor": 5
}
