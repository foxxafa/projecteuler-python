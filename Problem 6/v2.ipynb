{
 "cells": [
  {
   "cell_type": "markdown",
   "id": "c308986c-1f95-4e2d-ad72-c4a4841c2816",
   "metadata": {},
   "source": [
    "n(n+1)(2n+1)/6 sayıların karelerinin toplamını veren formül \n",
    "\n",
    "sayıların toplamının karesini veren formül ise (n*(n+1)/2)^2"
   ]
  },
  {
   "cell_type": "code",
   "execution_count": 1,
   "id": "0a0625c1-245a-4735-9318-7252092cf64b",
   "metadata": {},
   "outputs": [
    {
     "name": "stdout",
     "output_type": "stream",
     "text": [
      "25164150.0\n"
     ]
    }
   ],
   "source": [
    "def karelertoplamı(x):\n",
    "    return x*(x+1)*(2*x+1)/6\n",
    "\n",
    "def toplamınkaresi(x):\n",
    "    return (x*(x+1)/2)**2\n",
    "\n",
    "\n",
    "print(toplamınkaresi(100)-karelertoplamı(100))"
   ]
  }
 ],
 "metadata": {
  "kernelspec": {
   "display_name": "Python 3 (ipykernel)",
   "language": "python",
   "name": "python3"
  },
  "language_info": {
   "codemirror_mode": {
    "name": "ipython",
    "version": 3
   },
   "file_extension": ".py",
   "mimetype": "text/x-python",
   "name": "python",
   "nbconvert_exporter": "python",
   "pygments_lexer": "ipython3",
   "version": "3.10.8"
  }
 },
 "nbformat": 4,
 "nbformat_minor": 5
}
