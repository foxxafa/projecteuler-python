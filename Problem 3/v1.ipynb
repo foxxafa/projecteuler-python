{
 "cells": [
  {
   "cell_type": "markdown",
   "id": "ca9f193b-2739-4563-a705-9cc3ed2d62e4",
   "metadata": {},
   "source": [
    "Sayının en büyük asal çarpanı kaçtır? 600851475143"
   ]
  },
  {
   "cell_type": "markdown",
   "id": "0f382699-156c-42cf-a483-f1d15213b655",
   "metadata": {},
   "source": [
    "12/2=6\n",
    "6/2=3\n",
    "3/3=1\n",
    "\n",
    "360/2=120\n",
    "120/2=60\n",
    "60/2=30\n",
    "30/2=15\n",
    "15%2=!0\n",
    "15/3=5\n",
    "5"
   ]
  },
  {
   "cell_type": "code",
   "execution_count": 2,
   "id": "70fd94a5-e7cd-46a9-a8d2-c99cbbbc31bc",
   "metadata": {},
   "outputs": [
    {
     "name": "stdout",
     "output_type": "stream",
     "text": [
      "6857\n"
     ]
    }
   ],
   "source": [
    "number=600851475143\n",
    "i=2\n",
    "while(number/i!=1):\n",
    "    if(number%i==0):\n",
    "        number/=i\n",
    "    else:\n",
    "        i+=1\n",
    "print(i)"
   ]
  },
  {
   "cell_type": "code",
   "execution_count": null,
   "id": "9929d62a-a470-43b2-9d41-6e0e28d863df",
   "metadata": {},
   "outputs": [],
   "source": []
  }
 ],
 "metadata": {
  "kernelspec": {
   "display_name": "Python 3 (ipykernel)",
   "language": "python",
   "name": "python3"
  },
  "language_info": {
   "codemirror_mode": {
    "name": "ipython",
    "version": 3
   },
   "file_extension": ".py",
   "mimetype": "text/x-python",
   "name": "python",
   "nbconvert_exporter": "python",
   "pygments_lexer": "ipython3",
   "version": "3.10.8"
  }
 },
 "nbformat": 4,
 "nbformat_minor": 5
}
