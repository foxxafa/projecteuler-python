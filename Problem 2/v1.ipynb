{
 "cells": [
  {
   "cell_type": "markdown",
   "id": "38f37817-7ec7-4909-a03d-86185ca0ac8c",
   "metadata": {},
   "source": [
    "1,2,3,5,8,13,21,34...\n",
    "Fibonacci dizisinde değerleri dört milyonu geçmeyen terimleri göz önünde bulundurarak, çift değerli terimlerin toplamını bulun."
   ]
  },
  {
   "cell_type": "code",
   "execution_count": 4,
   "id": "b94242d0-c02c-4731-8f27-6817ff58a4aa",
   "metadata": {},
   "outputs": [
    {
     "name": "stdout",
     "output_type": "stream",
     "text": [
      "4613732\n"
     ]
    }
   ],
   "source": [
    "a=0\n",
    "b=1\n",
    "c=0\n",
    "toplam=0\n",
    "while(c<4000000):\n",
    "    c=a+b\n",
    "    a=b\n",
    "    b=c\n",
    "    if(c%2==0):\n",
    "        toplam+=c\n",
    "\n",
    "print(toplam)"
   ]
  }
 ],
 "metadata": {
  "kernelspec": {
   "display_name": "Python 3 (ipykernel)",
   "language": "python",
   "name": "python3"
  },
  "language_info": {
   "codemirror_mode": {
    "name": "ipython",
    "version": 3
   },
   "file_extension": ".py",
   "mimetype": "text/x-python",
   "name": "python",
   "nbconvert_exporter": "python",
   "pygments_lexer": "ipython3",
   "version": "3.10.8"
  }
 },
 "nbformat": 4,
 "nbformat_minor": 5
}
