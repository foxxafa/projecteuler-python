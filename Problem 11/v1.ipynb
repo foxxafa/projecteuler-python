{
 "cells": [
  {
   "cell_type": "code",
   "execution_count": 11,
   "id": "77be1d6b-59ba-40c6-b532-ec66219525a0",
   "metadata": {},
   "outputs": [],
   "source": [
    "import numpy as np\n",
    "\n",
    "# Verilerin bulunduğu metin dosyasını açın ve satırları okuyun\n",
    "with open(\"data.txt\", \"r\") as dosya:\n",
    "    satirlar = dosya.readlines()\n",
    "\n",
    "# Her satırı işleyerek NumPy dizisini oluşturun\n",
    "veri = []\n",
    "for satir in satirlar:\n",
    "    satir_listesi = [int(eleman) for eleman in satir.strip().split()]\n",
    "    veri.append(satir_listesi)\n",
    "\n",
    "# NumPy dizisine dönüştürün\n",
    "veri = np.array(veri)"
   ]
  },
  {
   "cell_type": "code",
   "execution_count": 14,
   "id": "93673094-6a65-4187-b5bd-e6c3c2da7731",
   "metadata": {},
   "outputs": [
    {
     "data": {
      "text/plain": [
       "array([[ 8,  2, 22, 97, 38, 15,  0, 40,  0, 75,  4,  5,  7, 78, 52, 12,\n",
       "        50, 77, 91,  8],\n",
       "       [49, 49, 99, 40, 17, 81, 18, 57, 60, 87, 17, 40, 98, 43, 69, 48,\n",
       "         4, 56, 62,  0],\n",
       "       [81, 49, 31, 73, 55, 79, 14, 29, 93, 71, 40, 67, 53, 88, 30,  3,\n",
       "        49, 13, 36, 65],\n",
       "       [52, 70, 95, 23,  4, 60, 11, 42, 69, 24, 68, 56,  1, 32, 56, 71,\n",
       "        37,  2, 36, 91],\n",
       "       [22, 31, 16, 71, 51, 67, 63, 89, 41, 92, 36, 54, 22, 40, 40, 28,\n",
       "        66, 33, 13, 80],\n",
       "       [24, 47, 32, 60, 99,  3, 45,  2, 44, 75, 33, 53, 78, 36, 84, 20,\n",
       "        35, 17, 12, 50],\n",
       "       [32, 98, 81, 28, 64, 23, 67, 10, 26, 38, 40, 67, 59, 54, 70, 66,\n",
       "        18, 38, 64, 70],\n",
       "       [67, 26, 20, 68,  2, 62, 12, 20, 95, 63, 94, 39, 63,  8, 40, 91,\n",
       "        66, 49, 94, 21],\n",
       "       [24, 55, 58,  5, 66, 73, 99, 26, 97, 17, 78, 78, 96, 83, 14, 88,\n",
       "        34, 89, 63, 72],\n",
       "       [21, 36, 23,  9, 75,  0, 76, 44, 20, 45, 35, 14,  0, 61, 33, 97,\n",
       "        34, 31, 33, 95],\n",
       "       [78, 17, 53, 28, 22, 75, 31, 67, 15, 94,  3, 80,  4, 62, 16, 14,\n",
       "         9, 53, 56, 92],\n",
       "       [16, 39,  5, 42, 96, 35, 31, 47, 55, 58, 88, 24,  0, 17, 54, 24,\n",
       "        36, 29, 85, 57],\n",
       "       [86, 56,  0, 48, 35, 71, 89,  7,  5, 44, 44, 37, 44, 60, 21, 58,\n",
       "        51, 54, 17, 58],\n",
       "       [19, 80, 81, 68,  5, 94, 47, 69, 28, 73, 92, 13, 86, 52, 17, 77,\n",
       "         4, 89, 55, 40],\n",
       "       [ 4, 52,  8, 83, 97, 35, 99, 16,  7, 97, 57, 32, 16, 26, 26, 79,\n",
       "        33, 27, 98, 66],\n",
       "       [88, 36, 68, 87, 57, 62, 20, 72,  3, 46, 33, 67, 46, 55, 12, 32,\n",
       "        63, 93, 53, 69],\n",
       "       [ 4, 42, 16, 73, 38, 25, 39, 11, 24, 94, 72, 18,  8, 46, 29, 32,\n",
       "        40, 62, 76, 36],\n",
       "       [20, 69, 36, 41, 72, 30, 23, 88, 34, 62, 99, 69, 82, 67, 59, 85,\n",
       "        74,  4, 36, 16],\n",
       "       [20, 73, 35, 29, 78, 31, 90,  1, 74, 31, 49, 71, 48, 86, 81, 16,\n",
       "        23, 57,  5, 54],\n",
       "       [ 1, 70, 54, 71, 83, 51, 54, 69, 16, 92, 33, 48, 61, 43, 52,  1,\n",
       "        89, 19, 67, 48]])"
      ]
     },
     "execution_count": 14,
     "metadata": {},
     "output_type": "execute_result"
    }
   ],
   "source": [
    "veri"
   ]
  },
  {
   "cell_type": "code",
   "execution_count": 15,
   "id": "8bffaa4f-a8da-451e-abdf-b611c97f5f89",
   "metadata": {},
   "outputs": [
    {
     "data": {
      "text/plain": [
       "array([ 8,  2, 22, 97])"
      ]
     },
     "execution_count": 15,
     "metadata": {},
     "output_type": "execute_result"
    }
   ],
   "source": [
    "veri[0][0:4]"
   ]
  },
  {
   "cell_type": "code",
   "execution_count": 17,
   "id": "dc3768ce-8689-4164-a963-5e1cb355416f",
   "metadata": {},
   "outputs": [
    {
     "data": {
      "text/plain": [
       "(20, 20)"
      ]
     },
     "execution_count": 17,
     "metadata": {},
     "output_type": "execute_result"
    }
   ],
   "source": [
    "veri.shape"
   ]
  },
  {
   "cell_type": "code",
   "execution_count": 26,
   "id": "5d5128e3-1c81-4fd9-9e59-3e6d35f65b3b",
   "metadata": {},
   "outputs": [
    {
     "name": "stdout",
     "output_type": "stream",
     "text": [
      "70600674\n"
     ]
    }
   ],
   "source": [
    "biggest_dot=0\n",
    "leng=4\n",
    "for i in range(veri.shape[0]-leng+1): #y uzunluk  veri.shape[0]-leng+1\n",
    "    for k in range(veri.shape[1]-leng+1): # x uzunluk\n",
    "        for j in range(leng):\n",
    "            horizantal_dot = np.prod(veri[k + j, i:i + leng])\n",
    "            vertical_dot = np.prod(veri[k:k + leng, i])\n",
    "            cross_dotl = np.prod([veri[k + j, i + j] for j in range(leng)])\n",
    "            cross_dotr = np.prod([veri[k + j, i + leng - 1 - j] for j in range(leng)])\n",
    "\n",
    "            biggest_dot = max(biggest_dot, horizantal_dot, vertical_dot, cross_dotl, cross_dotr)\n",
    "                               \n",
    "        if (biggest_dot<horizantal_dot):\n",
    "            biggest_dot=horizantal_dot\n",
    "\n",
    "        if (biggest_dot<vertical_dot):\n",
    "            biggest_dot=vertical_dot\n",
    "\n",
    "        if (biggest_dot<cross_dotl):\n",
    "            biggest_dot=cross_dotl\n",
    "\n",
    "        if (biggest_dot<cross_dotr):\n",
    "            biggest_dot=cross_dotr\n",
    "\n",
    "print(biggest_dot)"
   ]
  },
  {
   "cell_type": "code",
   "execution_count": null,
   "id": "4c19a24d-def5-436a-b9da-9fb01c08c3a5",
   "metadata": {},
   "outputs": [],
   "source": []
  }
 ],
 "metadata": {
  "kernelspec": {
   "display_name": "Python 3 (ipykernel)",
   "language": "python",
   "name": "python3"
  },
  "language_info": {
   "codemirror_mode": {
    "name": "ipython",
    "version": 3
   },
   "file_extension": ".py",
   "mimetype": "text/x-python",
   "name": "python",
   "nbconvert_exporter": "python",
   "pygments_lexer": "ipython3",
   "version": "3.10.8"
  }
 },
 "nbformat": 4,
 "nbformat_minor": 5
}
