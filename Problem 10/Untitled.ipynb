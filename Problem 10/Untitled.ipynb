{
 "cells": [
  {
   "cell_type": "code",
   "execution_count": 9,
   "id": "9548ad2a-da58-4213-b6eb-a9141eb8d761",
   "metadata": {},
   "outputs": [],
   "source": [
    "def is_prime(x):\n",
    "    for i in range(2,(int(x**(1/2))+1)):\n",
    "        if (x%i==0):\n",
    "            return False\n",
    "    return True"
   ]
  },
  {
   "cell_type": "code",
   "execution_count": 10,
   "id": "75efdefc-d715-43f5-85df-85d5fb1e709f",
   "metadata": {},
   "outputs": [],
   "source": [
    "number_sum=2\n",
    "\n",
    "for i in range(3,2000001):\n",
    "    if(is_prime(i)):\n",
    "        number_sum+=i"
   ]
  },
  {
   "cell_type": "code",
   "execution_count": 11,
   "id": "588dc262-b2ee-4b36-87e9-5b750ab3dfcf",
   "metadata": {},
   "outputs": [
    {
     "data": {
      "text/plain": [
       "142913828922"
      ]
     },
     "execution_count": 11,
     "metadata": {},
     "output_type": "execute_result"
    }
   ],
   "source": [
    "number_sum"
   ]
  },
  {
   "cell_type": "code",
   "execution_count": null,
   "id": "67a01e1e-8852-4a2e-94a8-9c352063b12b",
   "metadata": {},
   "outputs": [],
   "source": []
  }
 ],
 "metadata": {
  "kernelspec": {
   "display_name": "Python 3 (ipykernel)",
   "language": "python",
   "name": "python3"
  },
  "language_info": {
   "codemirror_mode": {
    "name": "ipython",
    "version": 3
   },
   "file_extension": ".py",
   "mimetype": "text/x-python",
   "name": "python",
   "nbconvert_exporter": "python",
   "pygments_lexer": "ipython3",
   "version": "3.10.8"
  }
 },
 "nbformat": 4,
 "nbformat_minor": 5
}
