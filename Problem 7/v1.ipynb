{
 "cells": [
  {
   "cell_type": "code",
   "execution_count": 39,
   "id": "ccc4ceec-3b18-43d4-8a8d-eacc378ee932",
   "metadata": {},
   "outputs": [],
   "source": [
    "def is_prime(x):\n",
    "    for i in range(2,int(x**(1/2))+1):\n",
    "        if (x%i==0):\n",
    "            return False\n",
    "    return True"
   ]
  },
  {
   "cell_type": "code",
   "execution_count": 43,
   "id": "69c11bc9-861e-4c50-afb2-cd3d30903ae3",
   "metadata": {},
   "outputs": [
    {
     "name": "stdout",
     "output_type": "stream",
     "text": [
      "10001 104743\n"
     ]
    }
   ],
   "source": [
    "syc=1\n",
    "i=0\n",
    "while(i<10001):\n",
    "    syc+=1\n",
    "    if (is_prime(syc)):\n",
    "        i+=1\n",
    "    \n",
    "print(i,syc)"
   ]
  }
 ],
 "metadata": {
  "kernelspec": {
   "display_name": "Python 3 (ipykernel)",
   "language": "python",
   "name": "python3"
  },
  "language_info": {
   "codemirror_mode": {
    "name": "ipython",
    "version": 3
   },
   "file_extension": ".py",
   "mimetype": "text/x-python",
   "name": "python",
   "nbconvert_exporter": "python",
   "pygments_lexer": "ipython3",
   "version": "3.10.8"
  }
 },
 "nbformat": 4,
 "nbformat_minor": 5
}
