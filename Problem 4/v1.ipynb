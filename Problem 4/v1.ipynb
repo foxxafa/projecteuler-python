{
 "cells": [
  {
   "cell_type": "markdown",
   "id": "31091130-0975-46f7-bf2d-24858e6d49e0",
   "metadata": {},
   "source": [
    "İki tanne 3 basamaklı sayının çarpımı olan en büyük palindromu bulun."
   ]
  },
  {
   "cell_type": "code",
   "execution_count": 33,
   "id": "a2a91431-94d3-460f-8d95-d14e0b47711d",
   "metadata": {},
   "outputs": [],
   "source": [
    "def is_symetry(x):\n",
    "    if (x[0]==x[-1]):\n",
    "        return True\n",
    "    else: \n",
    "        return False"
   ]
  },
  {
   "cell_type": "code",
   "execution_count": 46,
   "id": "14326795-7cc5-478e-a78c-2770d0140cfb",
   "metadata": {},
   "outputs": [
    {
     "name": "stdout",
     "output_type": "stream",
     "text": [
      "906609\n"
     ]
    }
   ],
   "source": [
    "polindromik_list=[]\n",
    "\n",
    "for i in range(100,1000):\n",
    "    for j in range(100,1000):\n",
    "        s=j*i\n",
    "        temp=s\n",
    "        iscorrect=False\n",
    "\n",
    "        s=str(s)\n",
    "        while(len(s)>=2):\n",
    "            if (is_symetry(s)):\n",
    "                s=s[1:len(s)-1]\n",
    "                iscorrect=True\n",
    "            else:\n",
    "                iscorrect=False\n",
    "                break\n",
    "\n",
    "        if(iscorrect):\n",
    "            polindromik_list.append(temp)\n",
    "\n",
    "print(max(polindromik_list))\n",
    "                "
   ]
  }
 ],
 "metadata": {
  "kernelspec": {
   "display_name": "Python 3 (ipykernel)",
   "language": "python",
   "name": "python3"
  },
  "language_info": {
   "codemirror_mode": {
    "name": "ipython",
    "version": 3
   },
   "file_extension": ".py",
   "mimetype": "text/x-python",
   "name": "python",
   "nbconvert_exporter": "python",
   "pygments_lexer": "ipython3",
   "version": "3.10.8"
  }
 },
 "nbformat": 4,
 "nbformat_minor": 5
}
