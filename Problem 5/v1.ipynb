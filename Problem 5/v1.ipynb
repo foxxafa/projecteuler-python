{
 "cells": [
  {
   "cell_type": "markdown",
   "id": "61125be5-ceed-43c1-a456-99606ff9c31c",
   "metadata": {},
   "source": [
    "Bu soru, 1'den 20'ye kadar olan tüm pozitif tam sayıların ortak bölenlerini araştırmamızı istiyor.\n",
    "\n",
    "20 -> 2*10\n",
    "19 -> asal olduğundan direk çarpılması lazım\n",
    "18 -> 2*9\n",
    "17 -> asal\n",
    "16 -> 2*8\n",
    "15 -> 3*5\n",
    "14 -> 2*7\n",
    "13 -> asal\n",
    "12 -> 2*6\n",
    "11 -> asal\n",
    "10 -> 2*5\n",
    "9  -> 3*3\n",
    "8  -> 2*4\n",
    "7  -> asal \n",
    "6  -> 2*3\n",
    "5  -> asal\n",
    "4  -> 2*2\n",
    "3  -> asal\n",
    "2  -> asal\n",
    "\n",
    "asal olanlar ve diğerlerinin içindeki sayılar sadece 1 kere alınırsa x sayısı 1 den 20 ye kadar olan bütün sayılara bölünüresaplayabilirsiniz.\r\n",
    "\r\n",
    "\r\n",
    "\r\n",
    "\r\n",
    "\r\n"
   ]
  },
  {
   "cell_type": "code",
   "execution_count": 1,
   "id": "d9f4cf6b-4ed4-4337-8932-1fd7d6ed3d5a",
   "metadata": {},
   "outputs": [],
   "source": [
    "def carpanlar(x):\n",
    "    i=2\n",
    "    carpanlar=[]\n",
    "    while(int(x)>=i):\n",
    "        if(x%i==0):\n",
    "            carpanlar.append(i)\n",
    "            x/=i\n",
    "        else:\n",
    "            i+=int(x%i)\n",
    "\n",
    "    return carpanlar"
   ]
  },
  {
   "cell_type": "code",
   "execution_count": 5,
   "id": "977a2ab3-1400-45f4-a4d4-90b389f69ea2",
   "metadata": {},
   "outputs": [
    {
     "name": "stdout",
     "output_type": "stream",
     "text": [
      "232792560\n"
     ]
    }
   ],
   "source": [
    "sayi=2\n",
    "for i in range(2,21):\n",
    "    temp=sayi\n",
    "    for k in carpanlar(i):\n",
    "        if (temp%k==0):\n",
    "            temp/=k\n",
    "        else:\n",
    "            sayi*=k\n",
    "\n",
    "print(sayi)"
   ]
  },
  {
   "cell_type": "markdown",
   "id": "43145ac4-3b5c-4821-ad3d-0755175abe4b",
   "metadata": {},
   "source": [
    "2%2\n",
    "2%3 -> 3*2\n",
    "6%4 -> 6*4\n",
    "24%5 -> 24*5\n",
    "120%6 -> 120\n",
    "120%7 -> 840\n",
    "840%8 -> 840\n",
    "840%9 -> 840*3=2520"
   ]
  }
 ],
 "metadata": {
  "kernelspec": {
   "display_name": "Python 3 (ipykernel)",
   "language": "python",
   "name": "python3"
  },
  "language_info": {
   "codemirror_mode": {
    "name": "ipython",
    "version": 3
   },
   "file_extension": ".py",
   "mimetype": "text/x-python",
   "name": "python",
   "nbconvert_exporter": "python",
   "pygments_lexer": "ipython3",
   "version": "3.10.8"
  }
 },
 "nbformat": 4,
 "nbformat_minor": 5
}
