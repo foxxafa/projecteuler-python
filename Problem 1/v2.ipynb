{
 "cells": [
  {
   "cell_type": "markdown",
   "id": "3e2cadb0-00ec-480e-bf88-41211635628e",
   "metadata": {},
   "source": [
    "3 ün katlarının toplamı \n",
    "3+6+9+...+996+999 = 3(1+2+3+...+333) = 3*(333*334/2)"
   ]
  },
  {
   "cell_type": "code",
   "execution_count": 29,
   "id": "39f1fc25-0215-4f7e-a39f-24e5af820636",
   "metadata": {},
   "outputs": [
    {
     "name": "stdout",
     "output_type": "stream",
     "text": [
      "166833.0\n"
     ]
    }
   ],
   "source": [
    "sum3=3*(333*334/2)\n",
    "print(sum3)"
   ]
  },
  {
   "cell_type": "markdown",
   "id": "4e3956ae-0f49-46db-abae-39e3c7efd5f4",
   "metadata": {},
   "source": [
    "5 in katlarının toplamı \n",
    "5+10+15+...+995 = 5(1+2+3+...+199) = 5*(199*200/2)"
   ]
  },
  {
   "cell_type": "code",
   "execution_count": 30,
   "id": "b273d3cf-d0cb-42ec-a044-9494205e59e2",
   "metadata": {},
   "outputs": [
    {
     "name": "stdout",
     "output_type": "stream",
     "text": [
      "99500.0\n"
     ]
    }
   ],
   "source": [
    "sum5=5*(199*200/2)\n",
    "print(sum5)"
   ]
  },
  {
   "cell_type": "markdown",
   "id": "54488f9a-e9e0-4cda-a760-685862f026e8",
   "metadata": {},
   "source": [
    "15 in katlarının toplamı \n",
    "15+30+45+...+990 = 15(1+2+3+...+66) = 15*(66*67/2)"
   ]
  },
  {
   "cell_type": "code",
   "execution_count": 31,
   "id": "8a193c60-a398-4866-9b1e-f80b39062c10",
   "metadata": {},
   "outputs": [
    {
     "name": "stdout",
     "output_type": "stream",
     "text": [
      "33165.0\n"
     ]
    }
   ],
   "source": [
    "sum15=15*(66*67/2)\n",
    "print(sum15)"
   ]
  },
  {
   "cell_type": "code",
   "execution_count": 32,
   "id": "8ebd0e1c-c0f7-4c73-8af4-be1a7234920f",
   "metadata": {
    "scrolled": true
   },
   "outputs": [
    {
     "data": {
      "text/plain": [
       "233168.0"
      ]
     },
     "execution_count": 32,
     "metadata": {},
     "output_type": "execute_result"
    }
   ],
   "source": [
    "sum3+sum5-sum15"
   ]
  },
  {
   "cell_type": "markdown",
   "id": "08ba2b26-3754-4ea6-a21f-5284cf73a915",
   "metadata": {},
   "source": [
    "\\[ e^{i\\pi} + 1 = 0 \\]\r\n"
   ]
  },
  {
   "cell_type": "code",
   "execution_count": null,
   "id": "e198e5b7-20e9-4f30-9225-ddbccd5447c9",
   "metadata": {},
   "outputs": [],
   "source": []
  }
 ],
 "metadata": {
  "kernelspec": {
   "display_name": "Python 3 (ipykernel)",
   "language": "python",
   "name": "python3"
  },
  "language_info": {
   "codemirror_mode": {
    "name": "ipython",
    "version": 3
   },
   "file_extension": ".py",
   "mimetype": "text/x-python",
   "name": "python",
   "nbconvert_exporter": "python",
   "pygments_lexer": "ipython3",
   "version": "3.10.8"
  }
 },
 "nbformat": 4,
 "nbformat_minor": 5
}
