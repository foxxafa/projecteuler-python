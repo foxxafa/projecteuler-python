{
 "cells": [
  {
   "cell_type": "code",
   "execution_count": 1,
   "id": "12c10302-1f00-4ac9-aad6-65876fa765fe",
   "metadata": {},
   "outputs": [
    {
     "name": "stdout",
     "output_type": "stream",
     "text": [
      "233168\n"
     ]
    }
   ],
   "source": [
    "#1000 e kadar 3 veya 5 in katı olan sayıların toplamı\n",
    "\n",
    "toplam=0\n",
    "for i in range(0,1000):\n",
    "    if(i%3==0 or i%5==0):\n",
    "        toplam+=i\n",
    "\n",
    "\n",
    "print(toplam)"
   ]
  },
  {
   "cell_type": "code",
   "execution_count": null,
   "id": "12503ac3-9888-426a-afd5-bca2bba65e8f",
   "metadata": {},
   "outputs": [],
   "source": []
  }
 ],
 "metadata": {
  "kernelspec": {
   "display_name": "Python 3 (ipykernel)",
   "language": "python",
   "name": "python3"
  },
  "language_info": {
   "codemirror_mode": {
    "name": "ipython",
    "version": 3
   },
   "file_extension": ".py",
   "mimetype": "text/x-python",
   "name": "python",
   "nbconvert_exporter": "python",
   "pygments_lexer": "ipython3",
   "version": "3.10.8"
  }
 },
 "nbformat": 4,
 "nbformat_minor": 5
}
